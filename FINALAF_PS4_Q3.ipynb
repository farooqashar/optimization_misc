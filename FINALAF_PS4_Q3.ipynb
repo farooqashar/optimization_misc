{
 "cells": [
  {
   "cell_type": "markdown",
   "metadata": {},
   "source": [
    "# Problem 3"
   ]
  },
  {
   "cell_type": "markdown",
   "metadata": {},
   "source": [
    "Before you start to work on Problem 3, please visit [this page](https://canvas.mit.edu/files/1128379/download?download_frd=1) to download the installation instructions.\n",
    "\n",
    "Please install Julia (v1.5.3), JuMP (v0.20.0) and Gurobi (v9.1.1) on your computer as instructed by the tutorial on Canvas. These are the versions that the teaching team will provide support for. You should use Gurobi as the solver for all JuMP related problems, and use the Plots or StatsPlots packages for graphing.\n",
    "\n",
    "Before you submit this Jupyter notebook, please use (1) `Kernel` $\\rightarrow$ `Restart & Run All`, and (2) `File` $\\rightarrow$ `Download a` $\\rightarrow$ `HMTL (.html)` on the notebook menu to make the output of your codes available to the TAs.\n",
    "\n"
   ]
  },
  {
   "cell_type": "markdown",
   "metadata": {},
   "source": [
    "## Class Assignments"
   ]
  },
  {
   "cell_type": "markdown",
   "metadata": {},
   "source": [
    "The Salanter Akiba Riverdale (SAR) Academy is a coeducational, private Modern Orthodox Jewish day school located in New York City. Ever summer, the SAR Academy must create class assignments for their elementary school students. Each grade of 80-100 students must be divided into different classes. Requests for assignments are made by parents, teachers, and school therapists. These requests include pairs of students that should be placed together, pairs of students that should not be placed together, and requests for students to be placed in classes that better suit their unique or special academic needs. These requests often conflict with each other, and it falls on the administration to prioritize which requests should be fulfilled over others.\n",
    "\n",
    "In this exercise, we will solve a simplified version of the problem faced by the SAR Academy with 40 students and two classes. (The full optimization problem is currently being used to assist administrators at the SAR Academy.) The parents or guardians of each of the 40 students are asked to submit preferences for class 1 or class 2. These preferences often depend on the teaching style of the teachers, the teachers older siblings have had in the past, and characteristics of the class (one class is called an \"inclusion class,\" which is better for students with academic needs). The parents give a ranking of 1 to the class they prefer (their first choice), and a ranking of 2 to their second choice. This data, as well as the gender of each of the students, is given in the spreadsheet `ClassAssignments.csv`.   When solving this problem, please use the prepared Jupyter notebook."
   ]
  },
  {
   "cell_type": "markdown",
   "metadata": {},
   "source": [
    "## Part (a)"
   ]
  },
  {
   "cell_type": "markdown",
   "metadata": {},
   "source": [
    "The  problem  faced  by  the  SAR  Academy  is  to  decide  which  students  should  be assigned to which classes,  to satisfy as many of the parent preferences as possible (note thatsince  smaller  numbers  for  the  preferences  are  better,  this  is  a  minimization  problem).   Each student must be assigned to exactly one class, and there should be exactly 20 students in eachclass."
   ]
  },
  {
   "cell_type": "markdown",
   "metadata": {},
   "source": [
    "### (i)"
   ]
  },
  {
   "cell_type": "markdown",
   "metadata": {},
   "source": [
    "Formulate this problem as an integer optimization problem. Describe the decision variables, objective function, and constraints.\n",
    "\n",
    "On your PDF writeup, write down the formulation of this problem. Be sure to clearly indicate what your decision variables, objective, and constraints are.\n"
   ]
  },
  {
   "cell_type": "markdown",
   "metadata": {},
   "source": [
    "Let's work on some Julia code now. First, import the dataset from the spreadsheet `ClassAssignments.csv`. You can do it in the cell below."
   ]
  },
  {
   "cell_type": "code",
   "execution_count": 1,
   "metadata": {},
   "outputs": [
    {
     "data": {
      "text/html": [
       "<table class=\"data-frame\"><thead><tr><th></th><th>Student Number</th><th>Parent Preference for Class 1</th><th>Parent Preference for Class 2</th><th>Male or Female? (M or F)</th></tr><tr><th></th><th>Int64</th><th>Int64</th><th>Int64</th><th>String</th></tr></thead><tbody><p>40 rows × 4 columns</p><tr><th>1</th><td>1</td><td>1</td><td>2</td><td>M</td></tr><tr><th>2</th><td>2</td><td>1</td><td>2</td><td>M</td></tr><tr><th>3</th><td>3</td><td>2</td><td>1</td><td>M</td></tr><tr><th>4</th><td>4</td><td>1</td><td>2</td><td>M</td></tr><tr><th>5</th><td>5</td><td>1</td><td>2</td><td>M</td></tr><tr><th>6</th><td>6</td><td>2</td><td>1</td><td>M</td></tr><tr><th>7</th><td>7</td><td>1</td><td>2</td><td>M</td></tr><tr><th>8</th><td>8</td><td>2</td><td>1</td><td>M</td></tr><tr><th>9</th><td>9</td><td>1</td><td>2</td><td>M</td></tr><tr><th>10</th><td>10</td><td>1</td><td>2</td><td>M</td></tr><tr><th>11</th><td>11</td><td>1</td><td>2</td><td>M</td></tr><tr><th>12</th><td>12</td><td>2</td><td>1</td><td>M</td></tr><tr><th>13</th><td>13</td><td>1</td><td>2</td><td>M</td></tr><tr><th>14</th><td>14</td><td>1</td><td>2</td><td>M</td></tr><tr><th>15</th><td>15</td><td>1</td><td>2</td><td>M</td></tr><tr><th>16</th><td>16</td><td>2</td><td>1</td><td>M</td></tr><tr><th>17</th><td>17</td><td>1</td><td>2</td><td>M</td></tr><tr><th>18</th><td>18</td><td>1</td><td>2</td><td>M</td></tr><tr><th>19</th><td>19</td><td>1</td><td>2</td><td>M</td></tr><tr><th>20</th><td>20</td><td>1</td><td>2</td><td>M</td></tr><tr><th>21</th><td>21</td><td>2</td><td>1</td><td>M</td></tr><tr><th>22</th><td>22</td><td>1</td><td>2</td><td>M</td></tr><tr><th>23</th><td>23</td><td>2</td><td>1</td><td>M</td></tr><tr><th>24</th><td>24</td><td>1</td><td>2</td><td>F</td></tr><tr><th>25</th><td>25</td><td>2</td><td>1</td><td>F</td></tr><tr><th>26</th><td>26</td><td>2</td><td>1</td><td>F</td></tr><tr><th>27</th><td>27</td><td>2</td><td>1</td><td>F</td></tr><tr><th>28</th><td>28</td><td>1</td><td>2</td><td>F</td></tr><tr><th>29</th><td>29</td><td>2</td><td>1</td><td>F</td></tr><tr><th>30</th><td>30</td><td>1</td><td>2</td><td>F</td></tr><tr><th>&vellip;</th><td>&vellip;</td><td>&vellip;</td><td>&vellip;</td><td>&vellip;</td></tr></tbody></table>"
      ],
      "text/latex": [
       "\\begin{tabular}{r|cccc}\n",
       "\t& Student Number & Parent Preference for Class 1 & Parent Preference for Class 2 & Male or Female? (M or F)\\\\\n",
       "\t\\hline\n",
       "\t& Int64 & Int64 & Int64 & String\\\\\n",
       "\t\\hline\n",
       "\t1 & 1 & 1 & 2 & M \\\\\n",
       "\t2 & 2 & 1 & 2 & M \\\\\n",
       "\t3 & 3 & 2 & 1 & M \\\\\n",
       "\t4 & 4 & 1 & 2 & M \\\\\n",
       "\t5 & 5 & 1 & 2 & M \\\\\n",
       "\t6 & 6 & 2 & 1 & M \\\\\n",
       "\t7 & 7 & 1 & 2 & M \\\\\n",
       "\t8 & 8 & 2 & 1 & M \\\\\n",
       "\t9 & 9 & 1 & 2 & M \\\\\n",
       "\t10 & 10 & 1 & 2 & M \\\\\n",
       "\t11 & 11 & 1 & 2 & M \\\\\n",
       "\t12 & 12 & 2 & 1 & M \\\\\n",
       "\t13 & 13 & 1 & 2 & M \\\\\n",
       "\t14 & 14 & 1 & 2 & M \\\\\n",
       "\t15 & 15 & 1 & 2 & M \\\\\n",
       "\t16 & 16 & 2 & 1 & M \\\\\n",
       "\t17 & 17 & 1 & 2 & M \\\\\n",
       "\t18 & 18 & 1 & 2 & M \\\\\n",
       "\t19 & 19 & 1 & 2 & M \\\\\n",
       "\t20 & 20 & 1 & 2 & M \\\\\n",
       "\t21 & 21 & 2 & 1 & M \\\\\n",
       "\t22 & 22 & 1 & 2 & M \\\\\n",
       "\t23 & 23 & 2 & 1 & M \\\\\n",
       "\t24 & 24 & 1 & 2 & F \\\\\n",
       "\t25 & 25 & 2 & 1 & F \\\\\n",
       "\t26 & 26 & 2 & 1 & F \\\\\n",
       "\t27 & 27 & 2 & 1 & F \\\\\n",
       "\t28 & 28 & 1 & 2 & F \\\\\n",
       "\t29 & 29 & 2 & 1 & F \\\\\n",
       "\t30 & 30 & 1 & 2 & F \\\\\n",
       "\t$\\dots$ & $\\dots$ & $\\dots$ & $\\dots$ & $\\dots$ \\\\\n",
       "\\end{tabular}\n"
      ],
      "text/plain": [
       "\u001b[1m40×4 DataFrame\u001b[0m\n",
       "\u001b[1m Row \u001b[0m│\u001b[1m Student Number \u001b[0m\u001b[1m Parent Preference for Class 1 \u001b[0m\u001b[1m Parent Preference for Cl\u001b[0m ⋯\n",
       "\u001b[1m     \u001b[0m│\u001b[90m Int64          \u001b[0m\u001b[90m Int64                         \u001b[0m\u001b[90m Int64                   \u001b[0m ⋯\n",
       "─────┼──────────────────────────────────────────────────────────────────────────\n",
       "   1 │              1                              1                           ⋯\n",
       "   2 │              2                              1\n",
       "   3 │              3                              2\n",
       "   4 │              4                              1\n",
       "   5 │              5                              1                           ⋯\n",
       "   6 │              6                              2\n",
       "   7 │              7                              1\n",
       "   8 │              8                              2\n",
       "   9 │              9                              1                           ⋯\n",
       "  10 │             10                              1\n",
       "  11 │             11                              1\n",
       "  ⋮  │       ⋮                       ⋮                              ⋮          ⋱\n",
       "  31 │             31                              2\n",
       "  32 │             32                              1                           ⋯\n",
       "  33 │             33                              2\n",
       "  34 │             34                              1\n",
       "  35 │             35                              2\n",
       "  36 │             36                              2                           ⋯\n",
       "  37 │             37                              1\n",
       "  38 │             38                              2\n",
       "  39 │             39                              2\n",
       "  40 │             40                              2                           ⋯\n",
       "\u001b[36m                                                   2 columns and 19 rows omitted\u001b[0m"
      ]
     },
     "execution_count": 1,
     "metadata": {},
     "output_type": "execute_result"
    }
   ],
   "source": [
    "## if you have not installed package \"CSV\", please uncomment the line below and execute it\n",
    "# using Pkg; Pkg.add(\"CSV\")\n",
    "using DataFrames, CSV\n",
    "portfolio = CSV.read(\"ClassAssignments.csv\", DataFrame)"
   ]
  },
  {
   "cell_type": "markdown",
   "metadata": {},
   "source": [
    "Then, in the cell below, write Julia/JuMP codes to describe the program."
   ]
  },
  {
   "cell_type": "code",
   "execution_count": 2,
   "metadata": {
    "scrolled": false
   },
   "outputs": [
    {
     "name": "stdout",
     "output_type": "stream",
     "text": [
      "Academic license - for non-commercial use only - expires 2021-04-24\n"
     ]
    },
    {
     "data": {
      "text/latex": [
       "$$ \\begin{alignat*}{1}\\min\\quad & x_{1} + x_{2} + 2 x_{3} + x_{4} + x_{5} + 2 x_{6} + x_{7} + 2 x_{8} + x_{9} + x_{10} + x_{11} + 2 x_{12} + x_{13} + x_{14} + x_{15} + 2 x_{16} + x_{17} + x_{18} + x_{19} + x_{20} + 2 x_{21} + x_{22} + 2 x_{23} + x_{24} + 2 x_{25} + 2 x_{26} + 2 x_{27} + x_{28} + 2 x_{29} + x_{30} + 2 x_{31} + x_{32} + 2 x_{33} + x_{34} + 2 x_{35} + 2 x_{36} + x_{37} + 2 x_{38} + 2 x_{39} + 2 x_{40} + 2 x_{41} + 2 x_{42} + x_{43} + 2 x_{44} + 2 x_{45} + x_{46} + 2 x_{47} + x_{48} + 2 x_{49} + 2 x_{50} + 2 x_{51} + x_{52} + 2 x_{53} + 2 x_{54} + 2 x_{55} + x_{56} + 2 x_{57} + 2 x_{58} + 2 x_{59} + 2 x_{60} + x_{61} + 2 x_{62} + x_{63} + 2 x_{64} + x_{65} + x_{66} + x_{67} + 2 x_{68} + x_{69} + 2 x_{70} + x_{71} + 2 x_{72} + x_{73} + 2 x_{74} + x_{75} + x_{76} + 2 x_{77} + x_{78} + x_{79} + x_{80}\\\\\n",
       "\\text{Subject to} \\quad & x_{1} + x_{41} = 1.0\\\\\n",
       " & x_{2} + x_{42} = 1.0\\\\\n",
       " & x_{3} + x_{43} = 1.0\\\\\n",
       " & x_{4} + x_{44} = 1.0\\\\\n",
       " & x_{5} + x_{45} = 1.0\\\\\n",
       " & x_{6} + x_{46} = 1.0\\\\\n",
       " & x_{7} + x_{47} = 1.0\\\\\n",
       " & x_{8} + x_{48} = 1.0\\\\\n",
       " & x_{9} + x_{49} = 1.0\\\\\n",
       " & x_{10} + x_{50} = 1.0\\\\\n",
       " & x_{11} + x_{51} = 1.0\\\\\n",
       " & x_{12} + x_{52} = 1.0\\\\\n",
       " & x_{13} + x_{53} = 1.0\\\\\n",
       " & x_{14} + x_{54} = 1.0\\\\\n",
       " & x_{15} + x_{55} = 1.0\\\\\n",
       " & x_{16} + x_{56} = 1.0\\\\\n",
       " & x_{17} + x_{57} = 1.0\\\\\n",
       " & x_{18} + x_{58} = 1.0\\\\\n",
       " & x_{19} + x_{59} = 1.0\\\\\n",
       " & x_{20} + x_{60} = 1.0\\\\\n",
       " & x_{21} + x_{61} = 1.0\\\\\n",
       " & x_{22} + x_{62} = 1.0\\\\\n",
       " & x_{23} + x_{63} = 1.0\\\\\n",
       " & x_{24} + x_{64} = 1.0\\\\\n",
       " & x_{25} + x_{65} = 1.0\\\\\n",
       " & x_{26} + x_{66} = 1.0\\\\\n",
       " & x_{27} + x_{67} = 1.0\\\\\n",
       " & x_{28} + x_{68} = 1.0\\\\\n",
       " & x_{29} + x_{69} = 1.0\\\\\n",
       " & x_{30} + x_{70} = 1.0\\\\\n",
       " & x_{31} + x_{71} = 1.0\\\\\n",
       " & x_{32} + x_{72} = 1.0\\\\\n",
       " & x_{33} + x_{73} = 1.0\\\\\n",
       " & x_{34} + x_{74} = 1.0\\\\\n",
       " & x_{35} + x_{75} = 1.0\\\\\n",
       " & x_{36} + x_{76} = 1.0\\\\\n",
       " & x_{37} + x_{77} = 1.0\\\\\n",
       " & x_{38} + x_{78} = 1.0\\\\\n",
       " & x_{39} + x_{79} = 1.0\\\\\n",
       " & x_{40} + x_{80} = 1.0\\\\\n",
       " & x_{1} + x_{2} + x_{3} + x_{4} + x_{5} + x_{6} + x_{7} + x_{8} + x_{9} + x_{10} + x_{11} + x_{12} + x_{13} + x_{14} + x_{15} + x_{16} + x_{17} + x_{18} + x_{19} + x_{20} + x_{21} + x_{22} + x_{23} + x_{24} + x_{25} + x_{26} + x_{27} + x_{28} + x_{29} + x_{30} + x_{31} + x_{32} + x_{33} + x_{34} + x_{35} + x_{36} + x_{37} + x_{38} + x_{39} + x_{40} = 20.0\\\\\n",
       " & x_{41} + x_{42} + x_{43} + x_{44} + x_{45} + x_{46} + x_{47} + x_{48} + x_{49} + x_{50} + x_{51} + x_{52} + x_{53} + x_{54} + x_{55} + x_{56} + x_{57} + x_{58} + x_{59} + x_{60} + x_{61} + x_{62} + x_{63} + x_{64} + x_{65} + x_{66} + x_{67} + x_{68} + x_{69} + x_{70} + x_{71} + x_{72} + x_{73} + x_{74} + x_{75} + x_{76} + x_{77} + x_{78} + x_{79} + x_{80} = 20.0\\\\\n",
       " & x_{1} \\geq 0.0\\\\\n",
       " & x_{2} \\geq 0.0\\\\\n",
       " & x_{3} \\geq 0.0\\\\\n",
       " & x_{4} \\geq 0.0\\\\\n",
       " & x_{5} \\geq 0.0\\\\\n",
       " & x_{6} \\geq 0.0\\\\\n",
       " & x_{7} \\geq 0.0\\\\\n",
       " & x_{8} \\geq 0.0\\\\\n",
       " & x_{9} \\geq 0.0\\\\\n",
       " & x_{10} \\geq 0.0\\\\\n",
       " & x_{11} \\geq 0.0\\\\\n",
       " & x_{12} \\geq 0.0\\\\\n",
       " & x_{13} \\geq 0.0\\\\\n",
       " & x_{14} \\geq 0.0\\\\\n",
       " & x_{15} \\geq 0.0\\\\\n",
       " & x_{16} \\geq 0.0\\\\\n",
       " & x_{17} \\geq 0.0\\\\\n",
       " & x_{18} \\geq 0.0\\\\\n",
       " & x_{19} \\geq 0.0\\\\\n",
       " & x_{20} \\geq 0.0\\\\\n",
       " & x_{21} \\geq 0.0\\\\\n",
       " & x_{22} \\geq 0.0\\\\\n",
       " & x_{23} \\geq 0.0\\\\\n",
       " & x_{24} \\geq 0.0\\\\\n",
       " & x_{25} \\geq 0.0\\\\\n",
       " & x_{26} \\geq 0.0\\\\\n",
       " & x_{27} \\geq 0.0\\\\\n",
       " & x_{28} \\geq 0.0\\\\\n",
       " & x_{29} \\geq 0.0\\\\\n",
       " & x_{30} \\geq 0.0\\\\\n",
       " & x_{31} \\geq 0.0\\\\\n",
       " & x_{32} \\geq 0.0\\\\\n",
       " & x_{33} \\geq 0.0\\\\\n",
       " & x_{34} \\geq 0.0\\\\\n",
       " & x_{35} \\geq 0.0\\\\\n",
       " & x_{36} \\geq 0.0\\\\\n",
       " & x_{37} \\geq 0.0\\\\\n",
       " & x_{38} \\geq 0.0\\\\\n",
       " & x_{39} \\geq 0.0\\\\\n",
       " & x_{40} \\geq 0.0\\\\\n",
       " & x_{41} \\geq 0.0\\\\\n",
       " & x_{42} \\geq 0.0\\\\\n",
       " & x_{43} \\geq 0.0\\\\\n",
       " & x_{44} \\geq 0.0\\\\\n",
       " & x_{45} \\geq 0.0\\\\\n",
       " & x_{46} \\geq 0.0\\\\\n",
       " & x_{47} \\geq 0.0\\\\\n",
       " & x_{48} \\geq 0.0\\\\\n",
       " & x_{49} \\geq 0.0\\\\\n",
       " & x_{50} \\geq 0.0\\\\\n",
       " & x_{51} \\geq 0.0\\\\\n",
       " & x_{52} \\geq 0.0\\\\\n",
       " & x_{53} \\geq 0.0\\\\\n",
       " & x_{54} \\geq 0.0\\\\\n",
       " & x_{55} \\geq 0.0\\\\\n",
       " & x_{56} \\geq 0.0\\\\\n",
       " & x_{57} \\geq 0.0\\\\\n",
       " & x_{58} \\geq 0.0\\\\\n",
       " & x_{59} \\geq 0.0\\\\\n",
       " & x_{60} \\geq 0.0\\\\\n",
       " & x_{61} \\geq 0.0\\\\\n",
       " & x_{62} \\geq 0.0\\\\\n",
       " & x_{63} \\geq 0.0\\\\\n",
       " & x_{64} \\geq 0.0\\\\\n",
       " & x_{65} \\geq 0.0\\\\\n",
       " & x_{66} \\geq 0.0\\\\\n",
       " & x_{67} \\geq 0.0\\\\\n",
       " & x_{68} \\geq 0.0\\\\\n",
       " & x_{69} \\geq 0.0\\\\\n",
       " & x_{70} \\geq 0.0\\\\\n",
       " & x_{71} \\geq 0.0\\\\\n",
       " & x_{72} \\geq 0.0\\\\\n",
       " & x_{73} \\geq 0.0\\\\\n",
       " & x_{74} \\geq 0.0\\\\\n",
       " & x_{75} \\geq 0.0\\\\\n",
       " & x_{76} \\geq 0.0\\\\\n",
       " & x_{77} \\geq 0.0\\\\\n",
       " & x_{78} \\geq 0.0\\\\\n",
       " & x_{79} \\geq 0.0\\\\\n",
       " & x_{80} \\geq 0.0\\\\\n",
       "\\end{alignat*}\n",
       " $$"
      ],
      "text/plain": [
       "A JuMP Model\n",
       "Minimization problem with:\n",
       "Variables: 80\n",
       "Objective function type: GenericAffExpr{Float64,VariableRef}\n",
       "`GenericAffExpr{Float64,VariableRef}`-in-`MathOptInterface.EqualTo{Float64}`: 42 constraints\n",
       "`VariableRef`-in-`MathOptInterface.GreaterThan{Float64}`: 80 constraints\n",
       "Model mode: AUTOMATIC\n",
       "CachingOptimizer state: EMPTY_OPTIMIZER\n",
       "Solver name: Gurobi\n",
       "Names registered in the model: con, x"
      ]
     },
     "execution_count": 2,
     "metadata": {},
     "output_type": "execute_result"
    }
   ],
   "source": [
    "#--- Model specification\n",
    "using JuMP, DataFrames, Gurobi\n",
    "\n",
    "# Defining the model\n",
    "model = Model(with_optimizer(Gurobi.Optimizer))\n",
    "\n",
    "# Gathering all of the preferences into one single list from the Portfolio DataFrame\n",
    "class_1_p = portfolio[:,2]\n",
    "class_2_p = portfolio[:,3]\n",
    "\n",
    "all_p_values = append!(class_1_p, class_2_p)\n",
    "\n",
    "# Decision variables are x[1]...x[80] in order to represent the 2 classes with 40 students each\n",
    "@variable(model, x[1:80] >= 0)\n",
    "\n",
    "# Minimum Objective Function\n",
    "@objective(model, Min, sum(all_p_values[j]*x[j] for j in 1:80))\n",
    "\n",
    "    \n",
    "# Each student must be assigned to exactly one class,\n",
    "@constraint(model, con[i = 1:40], x[i] + x[i+40] ==  1)\n",
    "\n",
    "\n",
    "# There should be exactly 20 students in the first class\n",
    "@constraint(model,sum(x[i] for i in 1:40) == 20)\n",
    "\n",
    "\n",
    "# There should be exactly 20 students in the second class\n",
    "@constraint(model,sum(x[i+40] for i in 1:40) == 20)\n",
    "\n",
    "# Take a look at the model\n",
    "model"
   ]
  },
  {
   "cell_type": "markdown",
   "metadata": {},
   "source": [
    "In the cell below, write Julia/JuMP codes to solve this problem with Gurobi."
   ]
  },
  {
   "cell_type": "code",
   "execution_count": 3,
   "metadata": {},
   "outputs": [
    {
     "name": "stdout",
     "output_type": "stream",
     "text": [
      "Gurobi Optimizer version 9.1.1 build v9.1.1rc0 (mac64)\n",
      "Thread count: 4 physical cores, 8 logical processors, using up to 8 threads\n",
      "Optimize a model with 42 rows, 80 columns and 160 nonzeros\n",
      "Model fingerprint: 0x3bcc4627\n",
      "Coefficient statistics:\n",
      "  Matrix range     [1e+00, 1e+00]\n",
      "  Objective range  [1e+00, 2e+00]\n",
      "  Bounds range     [0e+00, 0e+00]\n",
      "  RHS range        [1e+00, 2e+01]\n",
      "Presolve removed 42 rows and 80 columns\n",
      "Presolve time: 0.01s\n",
      "Presolve: All rows and columns removed\n",
      "Iteration    Objective       Primal Inf.    Dual Inf.      Time\n",
      "       0    4.2000000e+01   0.000000e+00   2.000000e+00      0s\n",
      "Extra simplex iterations after uncrush: 1\n",
      "       1    4.2000000e+01   0.000000e+00   0.000000e+00      0s\n",
      "\n",
      "Solved in 1 iterations and 0.02 seconds\n",
      "Optimal objective  4.200000000e+01\n",
      "\n",
      "User-callback calls 36, time in user-callback 0.00 sec\n"
     ]
    }
   ],
   "source": [
    "#--- Write codes here to solve this problem with Gurobi\n",
    "\n",
    "# Optimizing the model\n",
    "optimize!(model)"
   ]
  },
  {
   "cell_type": "markdown",
   "metadata": {},
   "source": [
    "What is the optimal solution?  Give the values of the decision variables as well as the value of the optimal objective function value in the below cell."
   ]
  },
  {
   "cell_type": "code",
   "execution_count": 4,
   "metadata": {},
   "outputs": [
    {
     "name": "stdout",
     "output_type": "stream",
     "text": [
      "value.(x) = [1.0, 1.0, 0.0, 1.0, 1.0, 0.0, 1.0, 0.0, 1.0, 1.0, 1.0, 0.0, 1.0, 1.0, 1.0, 0.0, 1.0, 1.0, 1.0, 1.0, 0.0, 0.0, 0.0, 1.0, 0.0, 0.0, 0.0, 1.0, 0.0, 1.0, 0.0, 1.0, 0.0, 1.0, 0.0, 0.0, 0.0, 0.0, 0.0, 0.0, 0.0, 0.0, 1.0, 0.0, 0.0, 1.0, 0.0, 1.0, 0.0, 0.0, 0.0, 1.0, 0.0, 0.0, 0.0, 1.0, 0.0, 0.0, 0.0, 0.0, 1.0, 1.0, 1.0, 0.0, 1.0, 1.0, 1.0, 0.0, 1.0, 0.0, 1.0, 0.0, 1.0, 0.0, 1.0, 1.0, 1.0, 1.0, 1.0, 1.0]\n",
      "objective_value(model) = 42.0\n"
     ]
    },
    {
     "data": {
      "text/plain": [
       "42.0"
      ]
     },
     "execution_count": 4,
     "metadata": {},
     "output_type": "execute_result"
    }
   ],
   "source": [
    "#--- Write codes here to print your solutions\n",
    "\n",
    "# Showing the optimal solutions\n",
    "@show value.(x)\n",
    "\n",
    "# Showing the optimal objective value\n",
    "@show objective_value(model)"
   ]
  },
  {
   "cell_type": "markdown",
   "metadata": {},
   "source": [
    "### (iii)"
   ]
  },
  {
   "cell_type": "markdown",
   "metadata": {},
   "source": [
    "How  many  students  received  their  first  choice  class,  according  to  the  parent preferences?   (HINT:  You  should  be  able  to  answer  this  by  just  looking  at  the  optimal objective function value.) Write your solution in the Markdown box below."
   ]
  },
  {
   "cell_type": "markdown",
   "metadata": {},
   "source": [
    "38 students received their first choice class, according to the parent preferences.\n",
    "\n",
    "\n",
    "\n",
    "P * 1 + (40-P) * 2 = 42 ==> Solve for P\n",
    "\n",
    "P = 38, which will represent the number of students who received their first choice class. The 1 and the 2 is coming from the ranking of 1 and 2 and then the P and 40 - P is just enumrating those."
   ]
  },
  {
   "cell_type": "markdown",
   "metadata": {},
   "source": [
    "## Part (b)"
   ]
  },
  {
   "cell_type": "markdown",
   "metadata": {},
   "source": [
    "After looking at the optimal solution, the SAR academy decided that they would like to adjust the formulation for a better boy/ girl ratio in the classes. They would like to limit the boys in each class to no more than 12."
   ]
  },
  {
   "cell_type": "markdown",
   "metadata": {},
   "source": [
    "### (i)"
   ]
  },
  {
   "cell_type": "markdown",
   "metadata": {},
   "source": [
    "What constraint(s) do you need to add to your model to incorporate this adjustment? Write down your solution on the PDF writeup."
   ]
  },
  {
   "cell_type": "markdown",
   "metadata": {},
   "source": [
    "### (ii)"
   ]
  },
  {
   "cell_type": "markdown",
   "metadata": {},
   "source": [
    "Add the necessary constraints and resolve your model. In the cell below, write Julia/JuMP codes to solve this problem with Gurobi."
   ]
  },
  {
   "cell_type": "code",
   "execution_count": 5,
   "metadata": {},
   "outputs": [
    {
     "name": "stdout",
     "output_type": "stream",
     "text": [
      "Academic license - for non-commercial use only - expires 2021-04-24\n",
      "Gurobi Optimizer version 9.1.1 build v9.1.1rc0 (mac64)\n",
      "Thread count: 4 physical cores, 8 logical processors, using up to 8 threads\n",
      "Optimize a model with 44 rows, 80 columns and 206 nonzeros\n",
      "Model fingerprint: 0x4ca290b6\n",
      "Coefficient statistics:\n",
      "  Matrix range     [1e+00, 1e+00]\n",
      "  Objective range  [1e+00, 2e+00]\n",
      "  Bounds range     [0e+00, 0e+00]\n",
      "  RHS range        [1e+00, 2e+01]\n",
      "Presolve removed 44 rows and 80 columns\n",
      "Presolve time: 0.00s\n",
      "Presolve: All rows and columns removed\n",
      "Iteration    Objective       Primal Inf.    Dual Inf.      Time\n",
      "       0    4.6000000e+01   0.000000e+00   8.000000e+00      0s\n",
      "Extra simplex iterations after uncrush: 2\n",
      "       2    4.6000000e+01   0.000000e+00   0.000000e+00      0s\n",
      "\n",
      "Solved in 2 iterations and 0.00 seconds\n",
      "Optimal objective  4.600000000e+01\n",
      "\n",
      "User-callback calls 42, time in user-callback 0.00 sec\n"
     ]
    }
   ],
   "source": [
    "#--- Write codes here to solve this problem with Gurobi\n",
    "\n",
    "using JuMP, DataFrames, Gurobi\n",
    "\n",
    "# Defining the model\n",
    "model = Model(with_optimizer(Gurobi.Optimizer))\n",
    "\n",
    "# Gathering all of the preferences into one single list from the DataFrame\n",
    "class_1_p = portfolio[:,2]\n",
    "class_2_p = portfolio[:,3]\n",
    "\n",
    "all_p_values = append!(class_1_p, class_2_p)\n",
    "\n",
    "# Decision variables\n",
    "@variable(model, x[1:80] >= 0)\n",
    "\n",
    "# Objective Function\n",
    "@objective(model, Min, sum(all_p_values[j]*x[j] for j in 1:80))\n",
    "\n",
    "    \n",
    "# Each student must be assigned to exactly one class,\n",
    "@constraint(model, con[i = 1:40], x[i] + x[i+40] ==  1)\n",
    "\n",
    "\n",
    "# There should be exactly 20 students in the first class\n",
    "@constraint(model,sum(x[i] for i in 1:40) == 20)\n",
    "\n",
    "\n",
    "# There should be exactly 20 students in the second class\n",
    "@constraint(model,sum(x[i+40] for i in 1:40) == 20)\n",
    "\n",
    "# The boys in the first class should be limited to no more than 12\n",
    "@constraint(model,sum(x[i] for i in 1:23) <= 12)\n",
    "\n",
    "# The boys in the second class should be limited to no more than 12\n",
    "@constraint(model,sum(x[i+40] for i in 1:23) <= 12)\n",
    "\n",
    "# Optimizing the model\n",
    "optimize!(model)"
   ]
  },
  {
   "cell_type": "markdown",
   "metadata": {},
   "source": [
    "What is the optimal solution now? Give the values of the decision variables as well as the value of the optimal objective function value in the below cell."
   ]
  },
  {
   "cell_type": "code",
   "execution_count": 6,
   "metadata": {},
   "outputs": [
    {
     "name": "stdout",
     "output_type": "stream",
     "text": [
      "value.(x) = [1.0, 1.0, 0.0, 1.0, 1.0, 0.0, 1.0, 0.0, 1.0, 0.0, 1.0, 0.0, 0.0, 1.0, 0.0, 0.0, 1.0, 0.0, 1.0, 1.0, 0.0, 1.0, 0.0, 1.0, 0.0, 0.0, 0.0, 1.0, 0.0, 1.0, 0.0, 1.0, 1.0, 1.0, 0.0, 0.0, 1.0, 1.0, 0.0, 0.0, 0.0, 0.0, 1.0, 0.0, 0.0, 1.0, 0.0, 1.0, 0.0, 1.0, 0.0, 1.0, 1.0, 0.0, 1.0, 1.0, 0.0, 1.0, 0.0, 0.0, 1.0, 0.0, 1.0, 0.0, 1.0, 1.0, 1.0, 0.0, 1.0, 0.0, 1.0, 0.0, 0.0, 0.0, 1.0, 1.0, 0.0, 0.0, 1.0, 1.0]\n",
      "objective_value(model) = 46.0\n"
     ]
    },
    {
     "data": {
      "text/plain": [
       "46.0"
      ]
     },
     "execution_count": 6,
     "metadata": {},
     "output_type": "execute_result"
    }
   ],
   "source": [
    "#--- Write codes here to print your solutions\n",
    "\n",
    "# Showing the optimal solutions\n",
    "@show value.(x)\n",
    "\n",
    "# Showing the optimal objective value\n",
    "@show objective_value(model)"
   ]
  },
  {
   "cell_type": "markdown",
   "metadata": {},
   "source": [
    "How does it compare to the previous solution? Discuss this in the Markdown box below."
   ]
  },
  {
   "cell_type": "markdown",
   "metadata": {},
   "source": [
    "The optimal objective value of the previous solution was 42 while this optimal objective value is 46, meaning our objective value got worse. This makes intuitive and mathematical sense as we have added constraints of the boys in each class being no more than 12. The solution now has to satisfy these constraints, meaning the solution has gotten worse as there is less flexbility as the problem has \"narrowed\"/\"became tighter.\""
   ]
  },
  {
   "cell_type": "markdown",
   "metadata": {},
   "source": [
    "### (iii)"
   ]
  },
  {
   "cell_type": "markdown",
   "metadata": {},
   "source": [
    "How many students received their first choice class in this new solution, according to the parent preferences? Write down your solution in the Markdown box below."
   ]
  },
  {
   "cell_type": "markdown",
   "metadata": {},
   "source": [
    "34 students received their first choice class, according to the parent preferences.\n",
    "\n",
    "\n",
    "\n",
    "P * 1 + (40-P) * 2 = 46 ==> Solve for P\n",
    "\n",
    "P = 34, which will represent the number of students who received their first choice class. The 1 and the 2 is coming from the ranking of 1 and 2 and then the P and 40 - P is just enumrating those.\n",
    "\n",
    "\n",
    "This number is less than the number from the previous solution, which makes sense since we have added constraints here, which would make the number of students who receiived their first choice less as more constraints need to be satisfied. "
   ]
  },
  {
   "cell_type": "markdown",
   "metadata": {},
   "source": [
    "## Part (c)"
   ]
  },
  {
   "cell_type": "markdown",
   "metadata": {},
   "source": [
    "Now, we will add some logical constraints to capture additional\n",
    "preferences of parents, teachers, and school therapists."
   ]
  },
  {
   "cell_type": "markdown",
   "metadata": {},
   "source": [
    "### (i)"
   ]
  },
  {
   "cell_type": "markdown",
   "metadata": {},
   "source": [
    "Students 10 and 11 are twins, and the school has a policy that twins must be placed in different classes. What constraint(s) needs to be added to the model to implement this policy? Write down your solution on the PDF writeup."
   ]
  },
  {
   "cell_type": "markdown",
   "metadata": {},
   "source": [
    "### (ii)"
   ]
  },
  {
   "cell_type": "markdown",
   "metadata": {},
   "source": [
    "Students 4, 9, 15, 25, 30, and 36 are all from the same neighborhood. The school would like to put at least 2 students from this neighborhood in each class. What constraint(s) needs to be added to the model to implement this policy? Write down your solution on the PDF writeup."
   ]
  },
  {
   "cell_type": "markdown",
   "metadata": {},
   "source": [
    "### (iii)"
   ]
  },
  {
   "cell_type": "markdown",
   "metadata": {},
   "source": [
    "The school therapist strongly recommends that students 20 and 21 are placed in the same classroom, that student 1 is placed in classroom 2, and that student 40 is placed in classroom 2. What constraint(s) needs to be added to the model to implement this policy? Write down your solution on the PDF writeup."
   ]
  },
  {
   "cell_type": "markdown",
   "metadata": {},
   "source": [
    "### (iv)"
   ]
  },
  {
   "cell_type": "markdown",
   "metadata": {},
   "source": [
    "Add all of these constraints to your model, and solve it again."
   ]
  },
  {
   "cell_type": "markdown",
   "metadata": {},
   "source": [
    "In the cell below, write Julia/JuMP codes to solve this new problem. Please use Gurobi as the solver."
   ]
  },
  {
   "cell_type": "code",
   "execution_count": 7,
   "metadata": {},
   "outputs": [
    {
     "name": "stdout",
     "output_type": "stream",
     "text": [
      "Academic license - for non-commercial use only - expires 2021-04-24\n",
      "Gurobi Optimizer version 9.1.1 build v9.1.1rc0 (mac64)\n",
      "Thread count: 4 physical cores, 8 logical processors, using up to 8 threads\n",
      "Optimize a model with 52 rows, 80 columns and 228 nonzeros\n",
      "Model fingerprint: 0x7d6d8374\n",
      "Coefficient statistics:\n",
      "  Matrix range     [1e+00, 1e+00]\n",
      "  Objective range  [1e+00, 2e+00]\n",
      "  Bounds range     [0e+00, 0e+00]\n",
      "  RHS range        [1e+00, 2e+01]\n",
      "Presolve removed 49 rows and 72 columns\n",
      "Presolve time: 0.00s\n",
      "Presolved: 3 rows, 10 columns, 17 nonzeros\n",
      "\n",
      "Iteration    Objective       Primal Inf.    Dual Inf.      Time\n",
      "       0    4.1000000e+01   4.000000e+00   0.000000e+00      0s\n",
      "       3    4.6000000e+01   0.000000e+00   0.000000e+00      0s\n",
      "\n",
      "Solved in 3 iterations and 0.00 seconds\n",
      "Optimal objective  4.600000000e+01\n",
      "\n",
      "User-callback calls 42, time in user-callback 0.00 sec\n"
     ]
    }
   ],
   "source": [
    "#--- Write Julia/JuMP codes to solve this new problem with Gurob\n",
    "\n",
    "using JuMP, DataFrames, Gurobi\n",
    "\n",
    "# Defining the model\n",
    "model = Model(with_optimizer(Gurobi.Optimizer))\n",
    "\n",
    "# Gathering all of the preferences into one single list from the DataFrame\n",
    "class_1_p = portfolio[:,2]\n",
    "class_2_p = portfolio[:,3]\n",
    "\n",
    "all_p_values = append!(class_1_p, class_2_p)\n",
    "\n",
    "# Decision variables\n",
    "@variable(model, x[1:80] >= 0)\n",
    "\n",
    "# Objective Function\n",
    "@objective(model, Min, sum(all_p_values[j]*x[j] for j in 1:80))\n",
    "\n",
    "    \n",
    "# Each student must be assigned to exactly one class,\n",
    "@constraint(model, con[i = 1:40], x[i] + x[i+40] ==  1)\n",
    "\n",
    "\n",
    "# There should be exactly 20 students in the first class\n",
    "@constraint(model,sum(x[i] for i in 1:40) == 20)\n",
    "\n",
    "\n",
    "# There should be exactly 20 students in the second class\n",
    "@constraint(model,sum(x[i+40] for i in 1:40) == 20)\n",
    "\n",
    "# The boys in the first class should be limited to no more than 12\n",
    "@constraint(model,sum(x[i] for i in 1:23) <= 12)\n",
    "\n",
    "# The boys in the second class should be limited to no more than 12\n",
    "@constraint(model,sum(x[i+40] for i in 1:23) <= 12)\n",
    "\n",
    "# The school has a policy that twins, students 10 and 11 namely, must be placed in different classes\n",
    "@constraint(model,x[10] + x[11] == 1)\n",
    "@constraint(model,x[50] + x[51] == 1)\n",
    "\n",
    "# The school would like to put at least 2 students from this neighborhood in each class\n",
    "@constraint(model,x[4] + x[9] + x[15] + x[25] + x[30] + x[36] >= 2)\n",
    "@constraint(model,x[44] + x[49] + x[55] + x[65] + x[70] + x[76] >= 2)\n",
    "\n",
    "# The school therapist strongly recommends that students 20 and 21 are placed in the same classroom\n",
    "@constraint(model,x[20] == x[21])\n",
    "@constraint(model,x[60] == x[61])\n",
    "\n",
    "# Student 1 needs to be placed in classroom 2\n",
    "@constraint(model,x[41] == 1)\n",
    "\n",
    "# Student 40 needs to be placed in classroom 2\n",
    "@constraint(model,x[80] == 1)\n",
    "\n",
    "# Optimizing the model\n",
    "optimize!(model)"
   ]
  },
  {
   "cell_type": "markdown",
   "metadata": {},
   "source": [
    "What is the optimal solution now? Give the values of the decision variables as well as the value of the optimal objective function value in the below cell."
   ]
  },
  {
   "cell_type": "code",
   "execution_count": 8,
   "metadata": {},
   "outputs": [
    {
     "name": "stdout",
     "output_type": "stream",
     "text": [
      "value.(x) = [0.0, 1.0, 0.0, 1.0, 0.0, 0.0, 1.0, 0.0, 1.0, 1.0, 0.0, 0.0, 1.0, 1.0, 1.0, 0.0, 1.0, 1.0, 1.0, 0.0, 0.0, 1.0, 0.0, 1.0, 0.0, 0.0, 1.0, 1.0, 0.0, 1.0, 0.0, 1.0, 0.0, 1.0, 0.0, 0.0, 1.0, 1.0, 0.0, 0.0, 1.0, 0.0, 1.0, 0.0, 1.0, 1.0, 0.0, 1.0, 0.0, 0.0, 1.0, 1.0, 0.0, 0.0, 0.0, 1.0, 0.0, 0.0, 0.0, 1.0, 1.0, 0.0, 1.0, 0.0, 1.0, 1.0, 0.0, 0.0, 1.0, 0.0, 1.0, 0.0, 1.0, 0.0, 1.0, 1.0, 0.0, 0.0, 1.0, 1.0]\n",
      "objective_value(model) = 46.0\n"
     ]
    },
    {
     "data": {
      "text/plain": [
       "46.0"
      ]
     },
     "execution_count": 8,
     "metadata": {},
     "output_type": "execute_result"
    }
   ],
   "source": [
    "#--- Write codes here to print your solutions\n",
    "\n",
    "# Showing the optimal solutions\n",
    "@show value.(x)\n",
    "\n",
    "# Showing the optimal objective value\n",
    "@show objective_value(model)"
   ]
  },
  {
   "cell_type": "markdown",
   "metadata": {},
   "source": [
    "How does the objective value compare to the previous solution, without all of these constraints? What does this tell us? Discuss this in the Markdown box below."
   ]
  },
  {
   "cell_type": "markdown",
   "metadata": {},
   "source": [
    "*Hooray! You're answering the last problem of the pset here :)*\n",
    "\n",
    "The optimal objective value to the previous solution was 46 and the optimal objective value to this solution is also 46, meaning the optimal objective value DID NOT CHANGE despite adding several constraints relating to Students 20,21,1,and 40. This tells us that these extra constraints are not quite as helpful for us as there seem to be many solutions that yield this same optimal objective value of 46. In other words, adding extra constraints was not particularly useful as the optimal objective value seems to be more rigid and not sensitive as it stayed the same."
   ]
  }
 ],
 "metadata": {
  "@webio": {
   "lastCommId": null,
   "lastKernelId": null
  },
  "kernelspec": {
   "display_name": "Julia 1.5.3",
   "language": "julia",
   "name": "julia-1.5"
  },
  "language_info": {
   "file_extension": ".jl",
   "mimetype": "application/julia",
   "name": "julia",
   "version": "1.5.3"
  }
 },
 "nbformat": 4,
 "nbformat_minor": 5
}
