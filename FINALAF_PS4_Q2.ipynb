{
 "cells": [
  {
   "cell_type": "markdown",
   "metadata": {},
   "source": [
    "# Problem 2"
   ]
  },
  {
   "cell_type": "markdown",
   "metadata": {},
   "source": [
    "Before you start to work on Problem 3, please visit [this page](https://canvas.mit.edu/files/1128379/download?download_frd=1) to download the installation instructions.\n",
    "\n",
    "Please install Julia (v1.5.3), JuMP (v0.20.0) and Gurobi (v9.1.1) on your computer as instructed by the tutorial on Canvas. These are the versions that the teaching team will provide support for. You should use Gurobi as the solver for all JuMP related problems, and use the Plots or StatsPlots packages for graphing.\n",
    "\n",
    "Before you submit this Jupyter notebook, please use (1) `Kernel` $\\rightarrow$ `Restart & Run All`, and (2) `File` $\\rightarrow$ `Download a` $\\rightarrow$ `HMTL (.html)` on the notebook menu to make the output of your codes available to the TAs."
   ]
  },
  {
   "cell_type": "markdown",
   "metadata": {},
   "source": [
    "## Part (d)"
   ]
  },
  {
   "cell_type": "markdown",
   "metadata": {},
   "source": [
    "Solve the integer program in **part (b)** using Julia/JuMP, and write the optimal solutions as well as the optimal objective value on the PDF writeup. For your convenience, the setup for **part (b)** is reproduced below.\n",
    "\n",
    "**Both the PDF writeup and the HTML file (with Julia/JuMP code) will be graded for this part.**"
   ]
  },
  {
   "cell_type": "markdown",
   "metadata": {},
   "source": [
    "### Setup for part (b)\n",
    "Suppose now that we are still auctioning off the set\n",
    "  of items $\\{1, 2, 3, 4, 5\\}$, but now we have two copies of\n",
    "  item $1$, three copies of item $2$, and one of each of the three remaining items. In other words, the set of items for auctions looks\n",
    "  like this: $\\{1, 1, 2, 2, 2, 3, 4, 5\\}$. \n",
    "\n",
    "We auction off these items and receive the following bids,\n",
    "where each bid is placed on a subset of the items and assigns a value\n",
    "to the *whole* subset:\n",
    "\n",
    "Bid 1: subset $\\{1, 5\\}$ valued at $10$.  \n",
    "Bid 2: subset $\\{1, 2, 4\\}$ valued at $20$.  \n",
    "Bid 3: subset $\\{3\\}$ valued at $8$.  \n",
    "Bid 4: subset $\\{5\\}$ valued at $4$.  \n",
    "Bid 5: subset $\\{2, 4\\}$ valued at $15$.  \n",
    "Bid 6: subset $\\{2, 3, 4, 5\\}$ valued at $30$.  \n",
    "Bid 7: subset $\\{1, 2, 3\\}$ valued at $18$.  \n",
    "\n",
    "Formulate an integer program to choose the subset of\n",
    "  bids that maximizes profit for the auctioneer, i.e., the total value\n",
    "  for which the items are sold is maximum."
   ]
  },
  {
   "cell_type": "code",
   "execution_count": 1,
   "metadata": {},
   "outputs": [],
   "source": [
    "using JuMP, Gurobi"
   ]
  },
  {
   "cell_type": "code",
   "execution_count": 2,
   "metadata": {},
   "outputs": [
    {
     "name": "stdout",
     "output_type": "stream",
     "text": [
      "Academic license - for non-commercial use only - expires 2021-04-24\n",
      "Gurobi Optimizer version 9.1.1 build v9.1.1rc0 (mac64)\n",
      "Thread count: 4 physical cores, 8 logical processors, using up to 8 threads\n",
      "Optimize a model with 5 rows, 7 columns and 16 nonzeros\n",
      "Model fingerprint: 0x25868da8\n",
      "Variable types: 0 continuous, 7 integer (7 binary)\n",
      "Coefficient statistics:\n",
      "  Matrix range     [1e+00, 1e+00]\n",
      "  Objective range  [4e+00, 3e+01]\n",
      "  Bounds range     [0e+00, 0e+00]\n",
      "  RHS range        [1e+00, 3e+00]\n",
      "Found heuristic solution: objective 38.0000000\n",
      "Presolve removed 5 rows and 7 columns\n",
      "Presolve time: 0.01s\n",
      "Presolve: All rows and columns removed\n",
      "\n",
      "Explored 0 nodes (0 simplex iterations) in 0.01 seconds\n",
      "Thread count was 1 (of 8 available processors)\n",
      "\n",
      "Solution count 2: 43 \n",
      "\n",
      "Optimal solution found (tolerance 1.00e-04)\n",
      "Best objective 4.300000000000e+01, best bound 4.300000000000e+01, gap 0.0000%\n",
      "\n",
      "User-callback calls 46, time in user-callback 0.00 sec\n"
     ]
    }
   ],
   "source": [
    "# write Julia/JuMP code to describe the integer program\n",
    "\n",
    "# Defining Model\n",
    "model = Model(with_optimizer(Gurobi.Optimizer))\n",
    "\n",
    "# Binary decision variables\n",
    "@variable(model, x[1:7] >= 0, Bin)\n",
    "\n",
    "# Objective Function\n",
    "@objective(model, Max, 10*x[1] + 20*x[2] + 8*x[3] + 4*x[4] + 15*x[5] + 30*x[6] + 18*x[7])\n",
    "\n",
    "    \n",
    "# Constraints for each of the item\n",
    "@constraint(model, x[1] + x[2] + x[7] <=  2)\n",
    "@constraint(model, x[2] + x[5] + x[6] + x[7] <=  3)\n",
    "@constraint(model, x[3] + x[6] + x[7] <=  1)\n",
    "@constraint(model, x[2] + x[5] + x[6] <=  1)\n",
    "@constraint(model, x[1] + x[4] + x[6] <=  1)\n",
    "\n",
    "# Optimizing the model\n",
    "optimize!(model)"
   ]
  },
  {
   "cell_type": "code",
   "execution_count": 3,
   "metadata": {},
   "outputs": [
    {
     "name": "stdout",
     "output_type": "stream",
     "text": [
      "value.(x) = [1.0, 0.0, 0.0, 0.0, 1.0, 0.0, 1.0]\n",
      "objective_value(model) = 43.0\n"
     ]
    },
    {
     "data": {
      "text/plain": [
       "43.0"
      ]
     },
     "execution_count": 3,
     "metadata": {},
     "output_type": "execute_result"
    }
   ],
   "source": [
    "# write code here to query the optimal solutions and print the solutions and objective value\n",
    "\n",
    "# Showing the optimal solutions\n",
    "@show value.(x)\n",
    "\n",
    "# Showing the objective value\n",
    "@show objective_value(model)"
   ]
  }
 ],
 "metadata": {
  "@webio": {
   "lastCommId": null,
   "lastKernelId": null
  },
  "kernelspec": {
   "display_name": "Julia 1.5.3",
   "language": "julia",
   "name": "julia-1.5"
  },
  "language_info": {
   "file_extension": ".jl",
   "mimetype": "application/julia",
   "name": "julia",
   "version": "1.5.3"
  }
 },
 "nbformat": 4,
 "nbformat_minor": 5
}
